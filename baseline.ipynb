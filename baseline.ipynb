{
 "cells": [
  {
   "cell_type": "markdown",
   "metadata": {
    "id": "AVuztWNONax8"
   },
   "source": [
    "# 라이브러리(필요한 도구) 불러오기"
   ]
  },
  {
   "cell_type": "code",
   "execution_count": 1,
   "metadata": {
    "id": "gQmH3wMmNYbf"
   },
   "outputs": [],
   "source": [
    "import pandas as pd\n",
    "import numpy as np\n",
    "from sklearn.tree import DecisionTreeClassifier\n",
    "from sklearn.tree import DecisionTreeRegressor\n",
    "from sklearn.model_selection import cross_val_score\n"
   ]
  },
  {
   "cell_type": "markdown",
   "metadata": {
    "id": "Tcrvad-QNu6Y"
   },
   "source": [
    "## 데이터 로딩"
   ]
  },
  {
   "cell_type": "code",
   "execution_count": 2,
   "metadata": {
    "id": "WfFWTdMzNq2I"
   },
   "outputs": [],
   "source": [
    "train_raw = pd.read_csv('titanic/train.csv')\n",
    "test_raw = pd.read_csv('titanic/test.csv')"
   ]
  },
  {
   "cell_type": "code",
   "execution_count": 34,
   "metadata": {},
   "outputs": [
    {
     "data": {
      "text/plain": [
       "0                                Braund, Mr. Owen Harris\n",
       "1      Cumings, Mrs. John Bradley (Florence Briggs Th...\n",
       "2                                 Heikkinen, Miss. Laina\n",
       "3           Futrelle, Mrs. Jacques Heath (Lily May Peel)\n",
       "4                               Allen, Mr. William Henry\n",
       "                             ...                        \n",
       "886                                Montvila, Rev. Juozas\n",
       "887                         Graham, Miss. Margaret Edith\n",
       "888             Johnston, Miss. Catherine Helen \"Carrie\"\n",
       "889                                Behr, Mr. Karl Howell\n",
       "890                                  Dooley, Mr. Patrick\n",
       "Name: Name, Length: 891, dtype: object"
      ]
     },
     "execution_count": 34,
     "metadata": {},
     "output_type": "execute_result"
    }
   ],
   "source": [
    "train_raw['Name']"
   ]
  },
  {
   "cell_type": "code",
   "execution_count": 65,
   "metadata": {},
   "outputs": [],
   "source": [
    "from functools import partial\n",
    "from sklearn.preprocessing import LabelEncoder\n",
    "\n",
    "cat_features = ['Sex', 'Embarked','Ticket_0','Cabin_0']\n",
    "le_dict = dict()\n",
    "\n",
    "\n",
    "def preprocessing(df, phase = 'train'):\n",
    "    '''\n",
    "    # ticket\n",
    "    '''\n",
    "    def process_ticket(raw, option = 1):\n",
    "        str_list = raw.split(' ')\n",
    "        if len(str_list) == 1:\n",
    "            tmp = '', str_list[0]\n",
    "        elif len(str_list) == 2:\n",
    "            tmp = str_list[0], str_list[1]\n",
    "        elif len(str_list) == 3:\n",
    "            tmp = str_list[0]+str_list[1], str_list[2]\n",
    "        return tmp[option]\n",
    "\n",
    "    df['Ticket_0'] = df['Ticket'].apply(partial(process_ticket, option = 0))\n",
    "    df['Ticket_1'] = df['Ticket'].apply(partial(process_ticket, option = 1))\n",
    "    df['Ticket_0'] = df['Ticket_0'].apply(lambda x: ''.join(x.split('.')))\n",
    "    df['Ticket_0'] = df['Ticket_0'].apply(lambda x: ''.join(x.split('/')))\n",
    "    df.loc[df['Ticket_1'] == 'LINE', 'Ticket_1'] = '0'\n",
    "    df['Ticket_1'] = df['Ticket_1'].astype(int)\n",
    "\n",
    "    '''\n",
    "    # 대푯값 사용\n",
    "    '''\n",
    "    df['Age'] = df['Age'].fillna(28)\n",
    "    df['Embarked'] = df['Embarked'].fillna('S')\n",
    "\n",
    "    '''\n",
    "    # Cabin 채움\n",
    "    '''\n",
    "    df['Cabin'] = df['Cabin'].fillna('nan')\n",
    "    def process_cabin(raw, option = 1):\n",
    "        str_list = raw.split(' ')\n",
    "        str_list = str_list[0]\n",
    "        if str_list == 'nan':\n",
    "            tmp = 'nan', 0\n",
    "        elif len(str_list) == 1:\n",
    "            tmp = str_list[0], 0\n",
    "        else:\n",
    "            tmp = str_list[0], int(str_list[1:])\n",
    "        return tmp[option]\n",
    "    df['Cabin_0'] = df['Cabin'].apply(partial(process_cabin, option = 0))\n",
    "    df['Cabin_1'] = df['Cabin'].apply(partial(process_cabin, option = 1))\n",
    "\n",
    "    '''\n",
    "    이름\n",
    "    '''\n",
    "    # list_ = ['mr','mrs','miss']\n",
    "    # def process_name(raw):\n",
    "    #     for l in list_:\n",
    "    #         if l in raw.lower():\n",
    "    #             return l\n",
    "    #     return 'nan'\n",
    "    # df['Name_p'] = df['Name'].apply(process_name)\n",
    "\n",
    "    '''\n",
    "    # 버릴거 버림\n",
    "    '''\n",
    "    df.drop(columns = ['Name', 'Ticket', 'Cabin'], inplace = True)\n",
    "\n",
    "    '''\n",
    "    label encoder 처리\n",
    "    '''\n",
    "    for col in cat_features:\n",
    "        if phase == 'train':\n",
    "            encoder = LabelEncoder()\n",
    "            unique_arr = np.unique(df[col])\n",
    "            encoder.fit(unique_arr)\n",
    "            le_dict[col] = encoder\n",
    "        else:\n",
    "            # train에 없는 게 있다면 replace -- 확인필수\n",
    "            encoder = le_dict[col]\n",
    "            df[col] = df[col].apply(lambda x: x if x in encoder.classes_ else '')\n",
    "        df[col] = encoder.transform(df[col])\n",
    "    return df\n",
    "\n",
    "train = preprocessing(train_raw.copy())\n",
    "test = preprocessing(test_raw.copy(), phase = 'test')\n",
    "train_x = train.drop('Survived', 1)\n",
    "train_y = train['Survived']"
   ]
  },
  {
   "cell_type": "code",
   "execution_count": 63,
   "metadata": {},
   "outputs": [],
   "source": [
    "train_x = train.drop('Survived', 1)\n",
    "train_y = train['Survived']"
   ]
  },
  {
   "cell_type": "markdown",
   "metadata": {
    "id": "7ciCPEn7N4Au"
   },
   "source": [
    "## 모델 정의 및 학습"
   ]
  },
  {
   "cell_type": "code",
   "execution_count": 40,
   "metadata": {},
   "outputs": [],
   "source": [
    "def warn(*args, **kwargs):\n",
    "    pass\n",
    "import warnings\n",
    "warnings.warn = warn"
   ]
  },
  {
   "cell_type": "code",
   "execution_count": 80,
   "metadata": {
    "id": "Eu0hTxRLN6X7"
   },
   "outputs": [
    {
     "name": "stdout",
     "output_type": "stream",
     "text": [
      "Lightgbm validation score:: 0.84834\n"
     ]
    }
   ],
   "source": [
    "import pandas as pd\n",
    "import numpy as np\n",
    "from sklearn.metrics import *\n",
    "from sklearn.model_selection import KFold, StratifiedKFold\n",
    "import lightgbm as lgb\n",
    "\n",
    "\n",
    "def f_pr_auc(probas_pred, y_true):\n",
    "    \"\"\"\n",
    "    lightgbm custom loss functions\n",
    "\n",
    "    [Input]\n",
    "    probas_pred: 예측 결과\n",
    "    y_true: 실제값\n",
    "\n",
    "    [Output]\n",
    "    metric 이름, auc 값, whether maximize or minimize (True is maximize)\n",
    "    \"\"\"\n",
    "\n",
    "    labels = y_true.get_label()\n",
    "    p, r, _ = precision_recall_curve(labels, probas_pred)\n",
    "    score = auc(r, p)\n",
    "    return \"pr_auc\", score, True\n",
    "\n",
    "\n",
    "def lgb_train_model(train_x, train_y, params, n_fold, fold_rs=0, categorical_feature = cat_features):\n",
    "    \"\"\"\n",
    "    lightgbm cross validation with given data\n",
    "\n",
    "    [Input]\n",
    "    train_x, train_y: 학습에 사용될 data와 label\n",
    "    params: lightgbm parameter\n",
    "    n_fold: k-fold cross validation의 fold 수\n",
    "    fold_rs: fold를 나눌 random state\n",
    "\n",
    "    [Output]\n",
    "    models: fold별로 피팅된 model\n",
    "    valid_probs: validation set에 대한 예측 결과\n",
    "    \"\"\"\n",
    "\n",
    "    valid_probs = np.zeros((train_y.shape))\n",
    "\n",
    "    # -------------------------------------------------------------------------------------\n",
    "    # Kfold cross validation\n",
    "\n",
    "    models = []\n",
    "    # k_fold = KFold(n_splits=n_fold, shuffle=True, random_state=fold_rs)\n",
    "    k_fold = StratifiedKFold(n_splits=n_fold, shuffle=True, random_state=fold_rs)\n",
    "    # split train, validation set\n",
    "    for train_idx, val_idx in k_fold.split(train_x, train_y):\n",
    "\n",
    "        # input 데이터 형식이 dataframe일 때와 array일 때를 구분\n",
    "        if type(train_x) == pd.DataFrame:\n",
    "            X = train_x.iloc[train_idx, :]\n",
    "            valid_x = train_x.iloc[val_idx, :]\n",
    "        elif type(train_x) == np.ndarray:\n",
    "            X = train_x[train_idx, :]\n",
    "            valid_x = train_x[val_idx, :]\n",
    "        else:\n",
    "            print('Unknown data type for X')\n",
    "            return -1, -1\n",
    "\n",
    "        y = train_y[train_idx]\n",
    "        valid_y = train_y[val_idx]\n",
    "\n",
    "        d_train = lgb.Dataset(X, y, categorical_feature=categorical_feature)\n",
    "        d_val = lgb.Dataset(valid_x, valid_y, categorical_feature=categorical_feature)\n",
    "\n",
    "        # run training\n",
    "        model = lgb.train(\n",
    "            params,\n",
    "            train_set=d_train,\n",
    "            num_boost_round=10000,\n",
    "            valid_sets=[d_train, d_val],\n",
    "            feval=f_pr_auc,\n",
    "            early_stopping_rounds=100,\n",
    "            verbose_eval=False,\n",
    "            categorical_feature=categorical_feature\n",
    "        )\n",
    "\n",
    "        # cal valid prediction\n",
    "        valid_prob = model.predict(valid_x)\n",
    "        valid_probs[val_idx] = valid_prob\n",
    "\n",
    "        models.append(model)\n",
    "\n",
    "    return models, valid_probs\n",
    "\n",
    "lgb_param = {\n",
    "    'force_col_wise': True,\n",
    "    'objective': 'binary',\n",
    "    'tree_learner': 'feature',\n",
    "    'boosting': 'gbdt',\n",
    "    'metrics': 'auc',\n",
    "    'random_state': 0,\n",
    "    'verbose': -1,\n",
    "    'max_depth': -1,\n",
    "    'n_jobs': -1,\n",
    "}\n",
    "\n",
    "models_lgb, valid_probs_lgb = lgb_train_model(train_x, train_y, lgb_param, n_fold = 5, fold_rs=0)\n",
    "auc_score_lgb = roc_auc_score(train_y, valid_probs_lgb)\n",
    "print('Lightgbm validation score:: {:.5f}'.format(auc_score_lgb))\n"
   ]
  },
  {
   "cell_type": "code",
   "execution_count": 81,
   "metadata": {},
   "outputs": [
    {
     "data": {
      "text/plain": [
       "(891, 12)"
      ]
     },
     "execution_count": 81,
     "metadata": {},
     "output_type": "execute_result"
    }
   ],
   "source": [
    "train_x.shape"
   ]
  },
  {
   "cell_type": "code",
   "execution_count": 76,
   "metadata": {},
   "outputs": [
    {
     "data": {
      "text/plain": [
       "array([28,  7,  4, 26,  0,  0, 19,  3,  0, 27,  0,  5], dtype=int32)"
      ]
     },
     "execution_count": 76,
     "metadata": {},
     "output_type": "execute_result"
    }
   ],
   "source": [
    "models_lgb[0].feature_importance()"
   ]
  },
  {
   "cell_type": "code",
   "execution_count": 82,
   "metadata": {},
   "outputs": [],
   "source": [
    "test_preds = []\n",
    "for model in models_lgb:\n",
    "  test_pred = model.predict(test)\n",
    "  test_preds.append(test_pred)\n",
    "final_preds = np.mean(test_preds, axis=0)"
   ]
  },
  {
   "cell_type": "code",
   "execution_count": 78,
   "metadata": {},
   "outputs": [
    {
     "data": {
      "text/plain": [
       "array([0.09114544, 0.28844851, 0.08969981, 0.1880847 , 0.56621828,\n",
       "       0.25054957, 0.50627685, 0.17109527, 0.74133275, 0.09315019,\n",
       "       0.10441103, 0.20948341, 0.8654472 , 0.08661375, 0.84936332,\n",
       "       0.82952272, 0.09622957, 0.11426404, 0.52289585, 0.44983975,\n",
       "       0.22077084, 0.55736234, 0.86623053, 0.23967439, 0.83448396,\n",
       "       0.08821607, 0.86686102, 0.113844  , 0.54837236, 0.23476812,\n",
       "       0.09713922, 0.12069573, 0.39642379, 0.17807581, 0.5014564 ,\n",
       "       0.11022753, 0.22002111, 0.2559675 , 0.10663573, 0.50296021,\n",
       "       0.09555086, 0.54047553, 0.133309  , 0.83765296, 0.86522869,\n",
       "       0.15770171, 0.52202624, 0.14999498, 0.85888676, 0.50765382,\n",
       "       0.63060377, 0.19067357, 0.85150871, 0.80179654, 0.13901569,\n",
       "       0.12066743, 0.08613427, 0.11869588, 0.13743474, 0.8522826 ,\n",
       "       0.09535074, 0.11544504, 0.10703479, 0.56021101, 0.70193797,\n",
       "       0.84790484, 0.53424533, 0.17045146, 0.64722725, 0.79079038,\n",
       "       0.52136143, 0.09596044, 0.45062428, 0.60106923, 0.8615198 ,\n",
       "       0.41938896, 0.12699634, 0.78142466, 0.14973451, 0.51815792,\n",
       "       0.72005217, 0.32895405, 0.12374957, 0.10441103, 0.13597167,\n",
       "       0.19479465, 0.5706129 , 0.46033187, 0.34398531, 0.78969454,\n",
       "       0.27037264, 0.11674996, 0.82602965, 0.13521827, 0.16539028,\n",
       "       0.12504097, 0.84174412, 0.21632679, 0.36242296, 0.08641708,\n",
       "       0.86874854, 0.12536947, 0.149852  , 0.11613453, 0.54500209,\n",
       "       0.09494049, 0.10580149, 0.16051134, 0.09771098, 0.10928895,\n",
       "       0.09550495, 0.53646314, 0.86903498, 0.55130242, 0.8302077 ,\n",
       "       0.12159251, 0.10262359, 0.62518448, 0.58457883, 0.85022147,\n",
       "       0.85918568, 0.16053634, 0.86915069, 0.12558812, 0.15043536,\n",
       "       0.6688671 , 0.11864155, 0.43827966, 0.09589965, 0.1028329 ,\n",
       "       0.1347355 , 0.27900461, 0.15831025, 0.14275015, 0.08575642,\n",
       "       0.11727433, 0.24139967, 0.12406569, 0.4339416 , 0.22583057,\n",
       "       0.1668305 , 0.80958672, 0.30417371, 0.12641959, 0.32545812,\n",
       "       0.10092664, 0.44165246, 0.09498321, 0.29491364, 0.12495001,\n",
       "       0.86951639, 0.1181822 , 0.07942617, 0.36230666, 0.11865449,\n",
       "       0.20941742, 0.85904456, 0.35260239, 0.64999333, 0.51894262,\n",
       "       0.54007948, 0.76599123, 0.84119093, 0.10251175, 0.09448068,\n",
       "       0.26275438, 0.33237355, 0.1289318 , 0.8624716 , 0.26489941,\n",
       "       0.14275622, 0.15351101, 0.0988826 , 0.11374247, 0.12634346,\n",
       "       0.86110742, 0.86693394, 0.49148803, 0.81872705, 0.8449955 ,\n",
       "       0.12852392, 0.53765649, 0.86080838, 0.1004518 , 0.84984341,\n",
       "       0.08936444, 0.82307564, 0.10939549, 0.15489901, 0.08618875,\n",
       "       0.09585675, 0.15737903, 0.59386438, 0.08734501, 0.70068937,\n",
       "       0.09388424, 0.82189813, 0.26833885, 0.08989271, 0.41362092,\n",
       "       0.60540708, 0.79295381, 0.29274819, 0.85898873, 0.08979196,\n",
       "       0.14396223, 0.61759483, 0.09035615, 0.86470504, 0.10082461,\n",
       "       0.09514727, 0.10826724, 0.17561988, 0.7941051 , 0.25239935,\n",
       "       0.3092994 , 0.54576707, 0.15750759, 0.80350127, 0.1010484 ,\n",
       "       0.81939414, 0.10269679, 0.84976817, 0.11783796, 0.79761322,\n",
       "       0.55753341, 0.11359142, 0.52865592, 0.08458524, 0.09853218,\n",
       "       0.34268547, 0.83768435, 0.13557924, 0.11770663, 0.34755541,\n",
       "       0.11689293, 0.24745803, 0.12916083, 0.74267991, 0.8568783 ,\n",
       "       0.79008958, 0.69433273, 0.56848085, 0.09337485, 0.10007262,\n",
       "       0.49541265, 0.84816366, 0.12853157, 0.85591023, 0.44120513,\n",
       "       0.86354478, 0.17880394, 0.59269647, 0.09168508, 0.10103851,\n",
       "       0.09239275, 0.09795792, 0.12699634, 0.85709609, 0.10461559,\n",
       "       0.0910482 , 0.11355918, 0.85964806, 0.61696048, 0.11084812,\n",
       "       0.10441103, 0.10827707, 0.09239275, 0.43835769, 0.10714535,\n",
       "       0.47319971, 0.15043536, 0.86550656, 0.6437416 , 0.11190701,\n",
       "       0.81643501, 0.09572063, 0.10321102, 0.09719129, 0.09162923,\n",
       "       0.2535707 , 0.77387421, 0.34398531, 0.58861141, 0.68700047,\n",
       "       0.08160728, 0.11017972, 0.44306286, 0.1546739 , 0.16336557,\n",
       "       0.14453747, 0.47094853, 0.1526599 , 0.3030426 , 0.09730393,\n",
       "       0.1023341 , 0.8526131 , 0.23476812, 0.16495877, 0.13178053,\n",
       "       0.11628226, 0.12698037, 0.19434276, 0.11048083, 0.51364379,\n",
       "       0.77950333, 0.33686442, 0.7969248 , 0.31030772, 0.30502943,\n",
       "       0.10621079, 0.2396812 , 0.15867157, 0.41836393, 0.8522503 ,\n",
       "       0.71132602, 0.30404028, 0.09113737, 0.16392871, 0.12009763,\n",
       "       0.11653329, 0.23975593, 0.26433498, 0.32657176, 0.8610612 ,\n",
       "       0.11240765, 0.83161428, 0.24334648, 0.23293726, 0.09841543,\n",
       "       0.8475338 , 0.66934718, 0.09671362, 0.62303978, 0.12594649,\n",
       "       0.28319923, 0.14105304, 0.10054432, 0.11947025, 0.15151676,\n",
       "       0.10226811, 0.10383715, 0.27023394, 0.84212767, 0.18493881,\n",
       "       0.39308175, 0.10958901, 0.44583559, 0.10536464, 0.84825579,\n",
       "       0.87295034, 0.08900718, 0.17293251, 0.16484191, 0.60996385,\n",
       "       0.14660789, 0.84974329, 0.17247749, 0.15043536, 0.43105679,\n",
       "       0.13274121, 0.84630636, 0.85807065, 0.1830316 , 0.86813052,\n",
       "       0.17722689, 0.11656176, 0.22454844, 0.86788733, 0.19361999,\n",
       "       0.09085543, 0.86975314, 0.13052352, 0.09698737, 0.85059597,\n",
       "       0.8649495 , 0.23363971, 0.08976865, 0.2903244 , 0.23939842,\n",
       "       0.16066504, 0.11256259, 0.41123448, 0.67208178, 0.15794562,\n",
       "       0.81451459, 0.11589605, 0.09178082, 0.12627674, 0.18445493,\n",
       "       0.62721032, 0.84862229, 0.45639953, 0.08709816, 0.09852387,\n",
       "       0.86684493, 0.11869134, 0.85969581, 0.10430816, 0.09587499,\n",
       "       0.85883267, 0.08609621, 0.87171096, 0.14680198, 0.55218992,\n",
       "       0.39567311, 0.09070579, 0.24785877, 0.544867  , 0.7281626 ,\n",
       "       0.37180734, 0.86786846, 0.33727904, 0.09557013, 0.87332241,\n",
       "       0.10121188, 0.12699634, 0.23666774])"
      ]
     },
     "execution_count": 78,
     "metadata": {},
     "output_type": "execute_result"
    }
   ],
   "source": [
    "final_preds"
   ]
  },
  {
   "cell_type": "markdown",
   "metadata": {
    "id": "jb1sFctFOF6x"
   },
   "source": [
    "## 제출 파일 생성"
   ]
  },
  {
   "cell_type": "code",
   "execution_count": 83,
   "metadata": {
    "id": "NmpW4vSGNgHG"
   },
   "outputs": [],
   "source": [
    "submission = pd.read_csv(\"titanic/submission.csv\")\n",
    "submission['Survived'] = final_preds\n",
    "submission.to_csv('submission/v_2.csv', index = False)"
   ]
  }
 ],
 "metadata": {
  "colab": {
   "name": "타이타닉 베이스라인",
   "provenance": []
  },
  "interpreter": {
   "hash": "987bd056f1b9f6deb5c8158a200daed352ab6e93ebb05ceb6b02d5acf255492c"
  },
  "kernelspec": {
   "display_name": "Python 3.8.8 64-bit ('base': conda)",
   "name": "python3"
  },
  "language_info": {
   "codemirror_mode": {
    "name": "ipython",
    "version": 3
   },
   "file_extension": ".py",
   "mimetype": "text/x-python",
   "name": "python",
   "nbconvert_exporter": "python",
   "pygments_lexer": "ipython3",
   "version": "3.8.8"
  }
 },
 "nbformat": 4,
 "nbformat_minor": 1
}
